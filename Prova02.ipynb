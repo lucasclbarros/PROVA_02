{
 "cells": [
  {
   "cell_type": "code",
   "execution_count": 19,
   "id": "0f9ccfbc-7301-4b61-878e-0867dd436c12",
   "metadata": {},
   "outputs": [],
   "source": [
    "consumo_diario = [50, 45, 55, 60, 48, 52, 47, 49, 53, 51, 50, 46, 54, 61, 49, 53, 48, 50, 52, 47, 56, 50, 55, 60, 48, 52, 47, 49, 53, 51]"
   ]
  },
  {
   "cell_type": "code",
   "execution_count": 21,
   "id": "c92f00f3-45ac-493d-89e6-ed81e7ab10a9",
   "metadata": {},
   "outputs": [],
   "source": [
    "def consumo(lista):\n",
    "    if not lista:\n",
    "        return 0.0\n",
    "    return sum(lista) / len(lista)"
   ]
  },
  {
   "cell_type": "code",
   "execution_count": 25,
   "id": "4eee64db-5f2d-43af-8da3-abf73cbe368b",
   "metadata": {},
   "outputs": [
    {
     "name": "stdout",
     "output_type": "stream",
     "text": [
      "O consumo diário médio foi: 51.36666666666667\n"
     ]
    }
   ],
   "source": [
    "print(f\"O consumo diário médio foi: {consumo(consumo_diario)}\")"
   ]
  }
 ],
 "metadata": {
  "kernelspec": {
   "display_name": "Python [conda env:base] *",
   "language": "python",
   "name": "conda-base-py"
  },
  "language_info": {
   "codemirror_mode": {
    "name": "ipython",
    "version": 3
   },
   "file_extension": ".py",
   "mimetype": "text/x-python",
   "name": "python",
   "nbconvert_exporter": "python",
   "pygments_lexer": "ipython3",
   "version": "3.12.7"
  }
 },
 "nbformat": 4,
 "nbformat_minor": 5
}
